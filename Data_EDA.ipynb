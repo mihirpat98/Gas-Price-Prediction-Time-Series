{
 "cells": [
  {
   "cell_type": "code",
   "execution_count": 1,
   "id": "1850438a",
   "metadata": {},
   "outputs": [],
   "source": [
    "import numpy as np # linear algebra\n",
    "import pandas as pd # data processing, CSV file I/O (e.g. pd.read_csv)\n",
    "import matplotlib.pyplot as plt # visualization library\n",
    "import seaborn as sns; sns.set()"
   ]
  },
  {
   "cell_type": "markdown",
   "id": "278da29c",
   "metadata": {},
   "source": [
    "# Retail Data\n"
   ]
  },
  {
   "cell_type": "code",
   "execution_count": 3,
   "id": "b90277ae",
   "metadata": {},
   "outputs": [],
   "source": [
    "df = pd.read_csv(\"data_raw/retail.csv\")"
   ]
  },
  {
   "cell_type": "code",
   "execution_count": 4,
   "id": "2913c720",
   "metadata": {
    "scrolled": true
   },
   "outputs": [
    {
     "data": {
      "text/html": [
       "<div>\n",
       "<style scoped>\n",
       "    .dataframe tbody tr th:only-of-type {\n",
       "        vertical-align: middle;\n",
       "    }\n",
       "\n",
       "    .dataframe tbody tr th {\n",
       "        vertical-align: top;\n",
       "    }\n",
       "\n",
       "    .dataframe thead th {\n",
       "        text-align: right;\n",
       "    }\n",
       "</style>\n",
       "<table border=\"1\" class=\"dataframe\">\n",
       "  <thead>\n",
       "    <tr style=\"text-align: right;\">\n",
       "      <th></th>\n",
       "      <th>Back to Contents</th>\n",
       "      <th>Data 1: Retail</th>\n",
       "    </tr>\n",
       "  </thead>\n",
       "  <tbody>\n",
       "    <tr>\n",
       "      <th>0</th>\n",
       "      <td>Sourcekey</td>\n",
       "      <td>EMM_EPMR_PTE_NUS_DPG</td>\n",
       "    </tr>\n",
       "    <tr>\n",
       "      <th>1</th>\n",
       "      <td>Date</td>\n",
       "      <td>Weekly U.S. Regular All Formulations Retail Ga...</td>\n",
       "    </tr>\n",
       "    <tr>\n",
       "      <th>2</th>\n",
       "      <td>1990-08-20 00:00:00</td>\n",
       "      <td>1.191</td>\n",
       "    </tr>\n",
       "    <tr>\n",
       "      <th>3</th>\n",
       "      <td>1990-08-27 00:00:00</td>\n",
       "      <td>1.245</td>\n",
       "    </tr>\n",
       "    <tr>\n",
       "      <th>4</th>\n",
       "      <td>1990-09-03 00:00:00</td>\n",
       "      <td>1.242</td>\n",
       "    </tr>\n",
       "  </tbody>\n",
       "</table>\n",
       "</div>"
      ],
      "text/plain": [
       "      Back to Contents                                     Data 1: Retail\n",
       "0            Sourcekey                               EMM_EPMR_PTE_NUS_DPG\n",
       "1                 Date  Weekly U.S. Regular All Formulations Retail Ga...\n",
       "2  1990-08-20 00:00:00                                              1.191\n",
       "3  1990-08-27 00:00:00                                              1.245\n",
       "4  1990-09-03 00:00:00                                              1.242"
      ]
     },
     "execution_count": 4,
     "metadata": {},
     "output_type": "execute_result"
    }
   ],
   "source": [
    "df.head()"
   ]
  },
  {
   "cell_type": "code",
   "execution_count": 5,
   "id": "5586f268",
   "metadata": {},
   "outputs": [],
   "source": [
    "df = df.iloc[1:]"
   ]
  },
  {
   "cell_type": "code",
   "execution_count": 6,
   "id": "20efddc9",
   "metadata": {},
   "outputs": [],
   "source": [
    "df.columns = df.iloc[0]\n",
    "df = df.iloc[1:].reset_index(drop=True)\n",
    "new_column_names = ['date', 'price']  # List of new header names\n",
    "df.columns = new_column_names"
   ]
  },
  {
   "cell_type": "code",
   "execution_count": 7,
   "id": "aeff8f5f",
   "metadata": {
    "scrolled": false
   },
   "outputs": [
    {
     "data": {
      "text/html": [
       "<div>\n",
       "<style scoped>\n",
       "    .dataframe tbody tr th:only-of-type {\n",
       "        vertical-align: middle;\n",
       "    }\n",
       "\n",
       "    .dataframe tbody tr th {\n",
       "        vertical-align: top;\n",
       "    }\n",
       "\n",
       "    .dataframe thead th {\n",
       "        text-align: right;\n",
       "    }\n",
       "</style>\n",
       "<table border=\"1\" class=\"dataframe\">\n",
       "  <thead>\n",
       "    <tr style=\"text-align: right;\">\n",
       "      <th></th>\n",
       "      <th>date</th>\n",
       "      <th>price</th>\n",
       "    </tr>\n",
       "  </thead>\n",
       "  <tbody>\n",
       "    <tr>\n",
       "      <th>0</th>\n",
       "      <td>1990-08-20 00:00:00</td>\n",
       "      <td>1.191</td>\n",
       "    </tr>\n",
       "    <tr>\n",
       "      <th>1</th>\n",
       "      <td>1990-08-27 00:00:00</td>\n",
       "      <td>1.245</td>\n",
       "    </tr>\n",
       "    <tr>\n",
       "      <th>2</th>\n",
       "      <td>1990-09-03 00:00:00</td>\n",
       "      <td>1.242</td>\n",
       "    </tr>\n",
       "    <tr>\n",
       "      <th>3</th>\n",
       "      <td>1990-09-10 00:00:00</td>\n",
       "      <td>1.252</td>\n",
       "    </tr>\n",
       "    <tr>\n",
       "      <th>4</th>\n",
       "      <td>1990-09-17 00:00:00</td>\n",
       "      <td>1.266</td>\n",
       "    </tr>\n",
       "  </tbody>\n",
       "</table>\n",
       "</div>"
      ],
      "text/plain": [
       "                  date  price\n",
       "0  1990-08-20 00:00:00  1.191\n",
       "1  1990-08-27 00:00:00  1.245\n",
       "2  1990-09-03 00:00:00  1.242\n",
       "3  1990-09-10 00:00:00  1.252\n",
       "4  1990-09-17 00:00:00  1.266"
      ]
     },
     "execution_count": 7,
     "metadata": {},
     "output_type": "execute_result"
    }
   ],
   "source": [
    "df.head()"
   ]
  },
  {
   "cell_type": "code",
   "execution_count": 8,
   "id": "dcbfe044",
   "metadata": {},
   "outputs": [],
   "source": [
    "df['date'] = pd.to_datetime(df['date'])\n",
    "df['price'] = df['price'].astype(float)"
   ]
  },
  {
   "cell_type": "code",
   "execution_count": 9,
   "id": "99810594",
   "metadata": {
    "scrolled": true
   },
   "outputs": [
    {
     "name": "stdout",
     "output_type": "stream",
     "text": [
      "<class 'pandas.core.frame.DataFrame'>\n",
      "RangeIndex: 1747 entries, 0 to 1746\n",
      "Data columns (total 2 columns):\n",
      " #   Column  Non-Null Count  Dtype         \n",
      "---  ------  --------------  -----         \n",
      " 0   date    1747 non-null   datetime64[ns]\n",
      " 1   price   1741 non-null   float64       \n",
      "dtypes: datetime64[ns](1), float64(1)\n",
      "memory usage: 27.4 KB\n"
     ]
    }
   ],
   "source": [
    "df.info()"
   ]
  },
  {
   "cell_type": "code",
   "execution_count": 10,
   "id": "f048ac97",
   "metadata": {},
   "outputs": [
    {
     "data": {
      "text/plain": [
       "date     0\n",
       "price    6\n",
       "dtype: int64"
      ]
     },
     "execution_count": 10,
     "metadata": {},
     "output_type": "execute_result"
    }
   ],
   "source": [
    "df.isna().sum()"
   ]
  },
  {
   "cell_type": "code",
   "execution_count": 11,
   "id": "bd7a1abb",
   "metadata": {},
   "outputs": [],
   "source": [
    "# Fill NaN prices with price of previous dates\n",
    "x = df[df['price'].isna()]\n",
    "df['price'].fillna(method='ffill', inplace=True)"
   ]
  },
  {
   "cell_type": "code",
   "execution_count": 12,
   "id": "c384cd53",
   "metadata": {},
   "outputs": [
    {
     "data": {
      "text/plain": [
       "date     1990-08-20 00:00:00\n",
       "price                  0.907\n",
       "dtype: object"
      ]
     },
     "execution_count": 12,
     "metadata": {},
     "output_type": "execute_result"
    }
   ],
   "source": [
    "df.min()"
   ]
  },
  {
   "cell_type": "code",
   "execution_count": 13,
   "id": "c5e98537",
   "metadata": {},
   "outputs": [
    {
     "data": {
      "text/plain": [
       "date     2024-02-05 00:00:00\n",
       "price                  5.006\n",
       "dtype: object"
      ]
     },
     "execution_count": 13,
     "metadata": {},
     "output_type": "execute_result"
    }
   ],
   "source": [
    "df.max()"
   ]
  },
  {
   "cell_type": "code",
   "execution_count": 14,
   "id": "0565ca54",
   "metadata": {},
   "outputs": [
    {
     "data": {
      "image/png": "[encoded data removed]",
      "text/plain": [
       "<Figure size 720x432 with 1 Axes>"
      ]
     },
     "metadata": {},
     "output_type": "display_data"
    }
   ],
   "source": [
    "# Plot the prices over time\n",
    "plt.figure(figsize=(10, 6))\n",
    "plt.plot(df['date'], df['price'], linestyle='-')\n",
    "plt.title('Prices Over Time')\n",
    "plt.xlabel('Date')\n",
    "plt.ylabel('Price')\n",
    "plt.grid(True)\n",
    "plt.show()"
   ]
  },
  {
   "cell_type": "code",
   "execution_count": null,
   "id": "1c26402b",
   "metadata": {},
   "outputs": [],
   "source": [
    "df.to_csv(\"data_converted/Retail_converted.csv\")"
   ]
  },
  {
   "cell_type": "markdown",
   "id": "593b48a8",
   "metadata": {},
   "source": [
    "# Regions"
   ]
  },
  {
   "cell_type": "code",
   "execution_count": 152,
   "id": "12430b2e",
   "metadata": {},
   "outputs": [],
   "source": [
    "df = pd.read_csv(\"data/regions.csv\")"
   ]
  },
  {
   "cell_type": "code",
   "execution_count": 153,
   "id": "e5f13a21",
   "metadata": {},
   "outputs": [
    {
     "data": {
      "text/html": [
       "<div>\n",
       "<style scoped>\n",
       "    .dataframe tbody tr th:only-of-type {\n",
       "        vertical-align: middle;\n",
       "    }\n",
       "\n",
       "    .dataframe tbody tr th {\n",
       "        vertical-align: top;\n",
       "    }\n",
       "\n",
       "    .dataframe thead th {\n",
       "        text-align: right;\n",
       "    }\n",
       "</style>\n",
       "<table border=\"1\" class=\"dataframe\">\n",
       "  <thead>\n",
       "    <tr style=\"text-align: right;\">\n",
       "      <th></th>\n",
       "      <th>Back to Contents</th>\n",
       "      <th>Data 2: Regions</th>\n",
       "      <th>Unnamed: 2</th>\n",
       "      <th>Unnamed: 3</th>\n",
       "      <th>Unnamed: 4</th>\n",
       "      <th>Unnamed: 5</th>\n",
       "      <th>Unnamed: 6</th>\n",
       "      <th>Unnamed: 7</th>\n",
       "      <th>Unnamed: 8</th>\n",
       "      <th>Unnamed: 9</th>\n",
       "    </tr>\n",
       "  </thead>\n",
       "  <tbody>\n",
       "    <tr>\n",
       "      <th>0</th>\n",
       "      <td>Sourcekey</td>\n",
       "      <td>EMM_EPMR_PTE_R10_DPG</td>\n",
       "      <td>EMM_EPMR_PTE_R1X_DPG</td>\n",
       "      <td>EMM_EPMR_PTE_R1Y_DPG</td>\n",
       "      <td>EMM_EPMR_PTE_R1Z_DPG</td>\n",
       "      <td>EMM_EPMR_PTE_R20_DPG</td>\n",
       "      <td>EMM_EPMR_PTE_R30_DPG</td>\n",
       "      <td>EMM_EPMR_PTE_R40_DPG</td>\n",
       "      <td>EMM_EPMR_PTE_R50_DPG</td>\n",
       "      <td>EMM_EPMR_PTE_R5XCA_DPG</td>\n",
       "    </tr>\n",
       "    <tr>\n",
       "      <th>1</th>\n",
       "      <td>Date</td>\n",
       "      <td>Weekly East Coast Regular All Formulations Ret...</td>\n",
       "      <td>Weekly New England (PADD 1A) Regular All Formu...</td>\n",
       "      <td>Weekly Central Atlantic (PADD 1B) Regular All ...</td>\n",
       "      <td>Weekly Lower Atlantic (PADD 1C) Regular All Fo...</td>\n",
       "      <td>Weekly Midwest Regular All Formulations Retail...</td>\n",
       "      <td>Weekly Gulf Coast Regular All Formulations Ret...</td>\n",
       "      <td>Weekly Rocky Mountain Regular All Formulations...</td>\n",
       "      <td>Weekly West Coast Regular All Formulations Ret...</td>\n",
       "      <td>Weekly West Coast (PADD 5) Except California R...</td>\n",
       "    </tr>\n",
       "    <tr>\n",
       "      <th>2</th>\n",
       "      <td>1992-05-11 00:00:00</td>\n",
       "      <td>1.071</td>\n",
       "      <td>NaN</td>\n",
       "      <td>NaN</td>\n",
       "      <td>NaN</td>\n",
       "      <td>1.103</td>\n",
       "      <td>1.084</td>\n",
       "      <td>1.117</td>\n",
       "      <td>1.189</td>\n",
       "      <td>NaN</td>\n",
       "    </tr>\n",
       "    <tr>\n",
       "      <th>3</th>\n",
       "      <td>1992-05-18 00:00:00</td>\n",
       "      <td>1.085</td>\n",
       "      <td>NaN</td>\n",
       "      <td>NaN</td>\n",
       "      <td>NaN</td>\n",
       "      <td>1.118</td>\n",
       "      <td>1.095</td>\n",
       "      <td>1.169</td>\n",
       "      <td>1.208</td>\n",
       "      <td>NaN</td>\n",
       "    </tr>\n",
       "    <tr>\n",
       "      <th>4</th>\n",
       "      <td>1992-05-25 00:00:00</td>\n",
       "      <td>1.092</td>\n",
       "      <td>NaN</td>\n",
       "      <td>NaN</td>\n",
       "      <td>NaN</td>\n",
       "      <td>1.117</td>\n",
       "      <td>1.094</td>\n",
       "      <td>1.159</td>\n",
       "      <td>1.218</td>\n",
       "      <td>NaN</td>\n",
       "    </tr>\n",
       "  </tbody>\n",
       "</table>\n",
       "</div>"
      ],
      "text/plain": [
       "      Back to Contents                                    Data 2: Regions  \\\n",
       "0            Sourcekey                               EMM_EPMR_PTE_R10_DPG   \n",
       "1                 Date  Weekly East Coast Regular All Formulations Ret...   \n",
       "2  1992-05-11 00:00:00                                              1.071   \n",
       "3  1992-05-18 00:00:00                                              1.085   \n",
       "4  1992-05-25 00:00:00                                              1.092   \n",
       "\n",
       "                                          Unnamed: 2  \\\n",
       "0                               EMM_EPMR_PTE_R1X_DPG   \n",
       "1  Weekly New England (PADD 1A) Regular All Formu...   \n",
       "2                                                NaN   \n",
       "3                                                NaN   \n",
       "4                                                NaN   \n",
       "\n",
       "                                          Unnamed: 3  \\\n",
       "0                               EMM_EPMR_PTE_R1Y_DPG   \n",
       "1  Weekly Central Atlantic (PADD 1B) Regular All ...   \n",
       "2                                                NaN   \n",
       "3                                                NaN   \n",
       "4                                                NaN   \n",
       "\n",
       "                                          Unnamed: 4  \\\n",
       "0                               EMM_EPMR_PTE_R1Z_DPG   \n",
       "1  Weekly Lower Atlantic (PADD 1C) Regular All Fo...   \n",
       "2                                                NaN   \n",
       "3                                                NaN   \n",
       "4                                                NaN   \n",
       "\n",
       "                                          Unnamed: 5  \\\n",
       "0                               EMM_EPMR_PTE_R20_DPG   \n",
       "1  Weekly Midwest Regular All Formulations Retail...   \n",
       "2                                              1.103   \n",
       "3                                              1.118   \n",
       "4                                              1.117   \n",
       "\n",
       "                                          Unnamed: 6  \\\n",
       "0                               EMM_EPMR_PTE_R30_DPG   \n",
       "1  Weekly Gulf Coast Regular All Formulations Ret...   \n",
       "2                                              1.084   \n",
       "3                                              1.095   \n",
       "4                                              1.094   \n",
       "\n",
       "                                          Unnamed: 7  \\\n",
       "0                               EMM_EPMR_PTE_R40_DPG   \n",
       "1  Weekly Rocky Mountain Regular All Formulations...   \n",
       "2                                              1.117   \n",
       "3                                              1.169   \n",
       "4                                              1.159   \n",
       "\n",
       "                                          Unnamed: 8  \\\n",
       "0                               EMM_EPMR_PTE_R50_DPG   \n",
       "1  Weekly West Coast Regular All Formulations Ret...   \n",
       "2                                              1.189   \n",
       "3                                              1.208   \n",
       "4                                              1.218   \n",
       "\n",
       "                                          Unnamed: 9  \n",
       "0                             EMM_EPMR_PTE_R5XCA_DPG  \n",
       "1  Weekly West Coast (PADD 5) Except California R...  \n",
       "2                                                NaN  \n",
       "3                                                NaN  \n",
       "4                                                NaN  "
      ]
     },
     "execution_count": 153,
     "metadata": {},
     "output_type": "execute_result"
    }
   ],
   "source": [
    "df.head()"
   ]
  },
  {
   "cell_type": "code",
   "execution_count": 154,
   "id": "48ead95a",
   "metadata": {},
   "outputs": [],
   "source": [
    "df = df.iloc[1:]"
   ]
  }
 ],
 "metadata": {
  "kernelspec": {
   "display_name": "Python 3 (ipykernel)",
   "language": "python",
   "name": "python3"
  },
  "language_info": {
   "codemirror_mode": {
    "name": "ipython",
    "version": 3
   },
   "file_extension": ".py",
   "mimetype": "text/x-python",
   "name": "python",
   "nbconvert_exporter": "python",
   "pygments_lexer": "ipython3",
   "version": "3.9.7"
  },
  "varInspector": {
   "cols": {
    "lenName": 16,
    "lenType": 16,
    "lenVar": 40
   },
   "kernels_config": {
    "python": {
     "delete_cmd_postfix": "",
     "delete_cmd_prefix": "del ",
     "library": "var_list.py",
     "varRefreshCmd": "print(var_dic_list())"
    },
    "r": {
     "delete_cmd_postfix": ") ",
     "delete_cmd_prefix": "rm(",
     "library": "var_list.r",
     "varRefreshCmd": "cat(var_dic_list()) "
    }
   },
   "types_to_exclude": [
    "module",
    "function",
    "builtin_function_or_method",
    "instance",
    "_Feature"
   ],
   "window_display": false
  }
 },
 "nbformat": 4,
 "nbformat_minor": 5
}
